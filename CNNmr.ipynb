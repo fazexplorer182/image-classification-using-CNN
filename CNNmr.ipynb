{
 "cells": [
  {
   "cell_type": "markdown",
   "metadata": {},
   "source": [
    "# # Convolutional Neural Network"
   ]
  },
  {
   "cell_type": "markdown",
   "metadata": {},
   "source": [
    "Prepared by \n",
    "HARIKRISHNAN R   (Data Analytics)\n",
    "MOHAMED FAWAS T  (Data Analytics)\n",
    "KEVIN S VARGHESE (Data Analytics)"
   ]
  },
  {
   "cell_type": "markdown",
   "metadata": {},
   "source": [
    "# Importing the libraries"
   ]
  },
  {
   "cell_type": "code",
   "execution_count": 1,
   "metadata": {},
   "outputs": [
    {
     "name": "stderr",
     "output_type": "stream",
     "text": [
      "Using TensorFlow backend.\n"
     ]
    }
   ],
   "source": [
    "import tensorflow as tf\n",
    "from keras.preprocessing.image import ImageDataGenerator"
   ]
  },
  {
   "cell_type": "code",
   "execution_count": 2,
   "metadata": {},
   "outputs": [
    {
     "data": {
      "text/plain": [
       "'2.1.0'"
      ]
     },
     "execution_count": 2,
     "metadata": {},
     "output_type": "execute_result"
    }
   ],
   "source": [
    "tf.__version__"
   ]
  },
  {
   "cell_type": "markdown",
   "metadata": {},
   "source": [
    "# Part 1 - Data Preprocessing"
   ]
  },
  {
   "cell_type": "markdown",
   "metadata": {},
   "source": [
    "# Preprocessing the Training set"
   ]
  },
  {
   "cell_type": "code",
   "execution_count": 3,
   "metadata": {},
   "outputs": [
    {
     "name": "stdout",
     "output_type": "stream",
     "text": [
      "Found 200 images belonging to 2 classes.\n"
     ]
    }
   ],
   "source": [
    "train_datagen = ImageDataGenerator(rescale = 1./255,\n",
    "                                   shear_range = 0.2,\n",
    "                                   zoom_range = 0.2,\n",
    "                                   horizontal_flip = True)\n",
    "training_set = train_datagen.flow_from_directory(r'C:\\Users\\fawas\\Documents\\machine learning workouts\\messironaldo\\training_set',\n",
    "                                                 target_size = (64, 64),\n",
    "                                                 batch_size = 32,\n",
    "                                                 class_mode = 'binary')"
   ]
  },
  {
   "cell_type": "markdown",
   "metadata": {},
   "source": [
    "# Preprocessing the Test set"
   ]
  },
  {
   "cell_type": "code",
   "execution_count": 4,
   "metadata": {},
   "outputs": [
    {
     "name": "stdout",
     "output_type": "stream",
     "text": [
      "Found 50 images belonging to 2 classes.\n"
     ]
    }
   ],
   "source": [
    "test_datagen = ImageDataGenerator(rescale = 1./255)\n",
    "test_set = test_datagen.flow_from_directory(r'C:\\Users\\fawas\\Documents\\machine learning workouts\\messironaldo\\test_set',\n",
    "                                            target_size = (64, 64),\n",
    "                                            batch_size = 32,\n",
    "                                            class_mode = 'binary')"
   ]
  },
  {
   "cell_type": "markdown",
   "metadata": {},
   "source": [
    "# Part 2 - Building the CNN"
   ]
  },
  {
   "cell_type": "markdown",
   "metadata": {},
   "source": [
    "# Initialising the CNN"
   ]
  },
  {
   "cell_type": "code",
   "execution_count": 5,
   "metadata": {},
   "outputs": [],
   "source": [
    "cnn = tf.keras.models.Sequential()"
   ]
  },
  {
   "cell_type": "markdown",
   "metadata": {},
   "source": [
    "# Step 1 - Convolution"
   ]
  },
  {
   "cell_type": "code",
   "execution_count": 6,
   "metadata": {},
   "outputs": [],
   "source": [
    "cnn.add(tf.keras.layers.Conv2D(filters=32, kernel_size=3, activation='relu', input_shape=[64, 64, 3]))"
   ]
  },
  {
   "cell_type": "markdown",
   "metadata": {},
   "source": [
    "# Step 2 - Pooling"
   ]
  },
  {
   "cell_type": "code",
   "execution_count": 7,
   "metadata": {},
   "outputs": [],
   "source": [
    "cnn.add(tf.keras.layers.MaxPool2D(pool_size=2, strides=2))"
   ]
  },
  {
   "cell_type": "markdown",
   "metadata": {},
   "source": [
    "# Adding a second convolutional layer"
   ]
  },
  {
   "cell_type": "code",
   "execution_count": 8,
   "metadata": {},
   "outputs": [],
   "source": [
    "cnn.add(tf.keras.layers.Conv2D(filters=32, kernel_size=3, activation='relu'))\n",
    "cnn.add(tf.keras.layers.MaxPool2D(pool_size=2, strides=2))"
   ]
  },
  {
   "cell_type": "markdown",
   "metadata": {},
   "source": [
    "# Step 3 - Flattening"
   ]
  },
  {
   "cell_type": "code",
   "execution_count": 9,
   "metadata": {},
   "outputs": [],
   "source": [
    "cnn.add(tf.keras.layers.Flatten())"
   ]
  },
  {
   "cell_type": "markdown",
   "metadata": {},
   "source": [
    "# Step 4 - Full Connection"
   ]
  },
  {
   "cell_type": "code",
   "execution_count": 10,
   "metadata": {},
   "outputs": [],
   "source": [
    "cnn.add(tf.keras.layers.Dense(units=128, activation='relu'))"
   ]
  },
  {
   "cell_type": "markdown",
   "metadata": {},
   "source": [
    "# Step 5 - Output Layer"
   ]
  },
  {
   "cell_type": "code",
   "execution_count": 11,
   "metadata": {},
   "outputs": [],
   "source": [
    "cnn.add(tf.keras.layers.Dense(units=1, activation='sigmoid'))"
   ]
  },
  {
   "cell_type": "markdown",
   "metadata": {},
   "source": [
    "# Part 3 - Training the CNN"
   ]
  },
  {
   "cell_type": "markdown",
   "metadata": {},
   "source": [
    "# Compiling the CNN"
   ]
  },
  {
   "cell_type": "code",
   "execution_count": 12,
   "metadata": {},
   "outputs": [],
   "source": [
    "cnn.compile(optimizer = 'adam', loss = 'binary_crossentropy', metrics = ['accuracy'])"
   ]
  },
  {
   "cell_type": "markdown",
   "metadata": {},
   "source": [
    "# Training the CNN on the Training set and evaluating it on the Test set"
   ]
  },
  {
   "cell_type": "code",
   "execution_count": 13,
   "metadata": {},
   "outputs": [
    {
     "name": "stdout",
     "output_type": "stream",
     "text": [
      "WARNING:tensorflow:sample_weight modes were coerced from\n",
      "  ...\n",
      "    to  \n",
      "  ['...']\n",
      "WARNING:tensorflow:sample_weight modes were coerced from\n",
      "  ...\n",
      "    to  \n",
      "  ['...']\n",
      "Train for 7 steps, validate for 2 steps\n",
      "Epoch 1/25\n",
      "7/7 [==============================] - 15s 2s/step - loss: 0.7565 - accuracy: 0.5050 - val_loss: 0.6959 - val_accuracy: 0.5200\n",
      "Epoch 2/25\n",
      "7/7 [==============================] - 12s 2s/step - loss: 0.6589 - accuracy: 0.5750 - val_loss: 0.6674 - val_accuracy: 0.5600\n",
      "Epoch 3/25\n",
      "7/7 [==============================] - 13s 2s/step - loss: 0.6019 - accuracy: 0.7050 - val_loss: 0.6317 - val_accuracy: 0.6400\n",
      "Epoch 4/25\n",
      "7/7 [==============================] - 14s 2s/step - loss: 0.5436 - accuracy: 0.7200 - val_loss: 0.6005 - val_accuracy: 0.7000\n",
      "Epoch 5/25\n",
      "7/7 [==============================] - 14s 2s/step - loss: 0.5382 - accuracy: 0.7450 - val_loss: 0.6278 - val_accuracy: 0.6400\n",
      "Epoch 6/25\n",
      "7/7 [==============================] - 14s 2s/step - loss: 0.4803 - accuracy: 0.8250 - val_loss: 0.5873 - val_accuracy: 0.6600\n",
      "Epoch 7/25\n",
      "7/7 [==============================] - 14s 2s/step - loss: 0.4232 - accuracy: 0.8450 - val_loss: 0.5302 - val_accuracy: 0.7200\n",
      "Epoch 8/25\n",
      "7/7 [==============================] - 13s 2s/step - loss: 0.3829 - accuracy: 0.8450 - val_loss: 0.5128 - val_accuracy: 0.7400\n",
      "Epoch 9/25\n",
      "7/7 [==============================] - 14s 2s/step - loss: 0.3166 - accuracy: 0.8650 - val_loss: 0.6085 - val_accuracy: 0.6400\n",
      "Epoch 10/25\n",
      "7/7 [==============================] - 14s 2s/step - loss: 0.3330 - accuracy: 0.8500 - val_loss: 0.4902 - val_accuracy: 0.7400\n",
      "Epoch 11/25\n",
      "7/7 [==============================] - 14s 2s/step - loss: 0.3432 - accuracy: 0.8850 - val_loss: 0.4995 - val_accuracy: 0.7200\n",
      "Epoch 12/25\n",
      "7/7 [==============================] - 13s 2s/step - loss: 0.2814 - accuracy: 0.8950 - val_loss: 0.5460 - val_accuracy: 0.7200\n",
      "Epoch 13/25\n",
      "7/7 [==============================] - 13s 2s/step - loss: 0.2621 - accuracy: 0.8850 - val_loss: 0.4916 - val_accuracy: 0.7600\n",
      "Epoch 14/25\n",
      "7/7 [==============================] - 12s 2s/step - loss: 0.2262 - accuracy: 0.9150 - val_loss: 0.5735 - val_accuracy: 0.7200\n",
      "Epoch 15/25\n",
      "7/7 [==============================] - 13s 2s/step - loss: 0.2005 - accuracy: 0.9150 - val_loss: 0.5049 - val_accuracy: 0.7600\n",
      "Epoch 16/25\n",
      "7/7 [==============================] - 13s 2s/step - loss: 0.1629 - accuracy: 0.9350 - val_loss: 0.5482 - val_accuracy: 0.7800\n",
      "Epoch 17/25\n",
      "7/7 [==============================] - 13s 2s/step - loss: 0.1671 - accuracy: 0.9350 - val_loss: 0.7733 - val_accuracy: 0.7000\n",
      "Epoch 18/25\n",
      "7/7 [==============================] - 13s 2s/step - loss: 0.1584 - accuracy: 0.9100 - val_loss: 0.5194 - val_accuracy: 0.7800\n",
      "Epoch 19/25\n",
      "7/7 [==============================] - 12s 2s/step - loss: 0.1486 - accuracy: 0.9550 - val_loss: 0.4911 - val_accuracy: 0.7800\n",
      "Epoch 20/25\n",
      "7/7 [==============================] - 13s 2s/step - loss: 0.1344 - accuracy: 0.9400 - val_loss: 0.5843 - val_accuracy: 0.7400\n",
      "Epoch 21/25\n",
      "7/7 [==============================] - 13s 2s/step - loss: 0.1232 - accuracy: 0.9600 - val_loss: 0.5319 - val_accuracy: 0.7600\n",
      "Epoch 22/25\n",
      "7/7 [==============================] - 13s 2s/step - loss: 0.1391 - accuracy: 0.9450 - val_loss: 0.5483 - val_accuracy: 0.7800\n",
      "Epoch 23/25\n",
      "7/7 [==============================] - 13s 2s/step - loss: 0.0956 - accuracy: 0.9650 - val_loss: 0.6289 - val_accuracy: 0.7600\n",
      "Epoch 24/25\n",
      "7/7 [==============================] - 13s 2s/step - loss: 0.0801 - accuracy: 0.9800 - val_loss: 0.5640 - val_accuracy: 0.8000\n",
      "Epoch 25/25\n",
      "7/7 [==============================] - 13s 2s/step - loss: 0.0654 - accuracy: 0.9800 - val_loss: 0.5693 - val_accuracy: 0.8000\n"
     ]
    },
    {
     "data": {
      "text/plain": [
       "<tensorflow.python.keras.callbacks.History at 0x1b300576438>"
      ]
     },
     "execution_count": 13,
     "metadata": {},
     "output_type": "execute_result"
    }
   ],
   "source": [
    "cnn.fit(x = training_set, validation_data = test_set, epochs = 25)"
   ]
  },
  {
   "cell_type": "markdown",
   "metadata": {},
   "source": [
    "# Part 4 - Making a single prediction"
   ]
  },
  {
   "cell_type": "code",
   "execution_count": 23,
   "metadata": {},
   "outputs": [
    {
     "data": {
      "text/plain": [
       "{'messi': 0, 'ronaldo': 1}"
      ]
     },
     "execution_count": 23,
     "metadata": {},
     "output_type": "execute_result"
    }
   ],
   "source": [
    "import numpy as np\n",
    "from keras.preprocessing import image\n",
    "test_image = image.load_img(r'C:\\Users\\fawas\\Documents\\machine learning workouts\\messironaldo\\single_prediction\\rono4.jpg', target_size = (64, 64))\n",
    "test_image = image.img_to_array(test_image)\n",
    "test_image = np.expand_dims(test_image, axis = 0)\n",
    "result = cnn.predict(test_image)\n",
    "training_set.class_indices"
   ]
  },
  {
   "cell_type": "code",
   "execution_count": 19,
   "metadata": {},
   "outputs": [],
   "source": [
    "if result[0][0] == 1:\n",
    "    prediction = 'ronaldo'\n",
    "else:\n",
    "    prediction = 'messi'"
   ]
  },
  {
   "cell_type": "code",
   "execution_count": 20,
   "metadata": {},
   "outputs": [
    {
     "name": "stdout",
     "output_type": "stream",
     "text": [
      "ronaldo\n"
     ]
    }
   ],
   "source": [
    "print(prediction)"
   ]
  }
 ],
 "metadata": {
  "kernelspec": {
   "display_name": "Python 3",
   "language": "python",
   "name": "python3"
  },
  "language_info": {
   "codemirror_mode": {
    "name": "ipython",
    "version": 3
   },
   "file_extension": ".py",
   "mimetype": "text/x-python",
   "name": "python",
   "nbconvert_exporter": "python",
   "pygments_lexer": "ipython3",
   "version": "3.6.12"
  }
 },
 "nbformat": 4,
 "nbformat_minor": 4
}
